{
 "cells": [
  {
   "cell_type": "code",
   "execution_count": 5,
   "id": "c8addf7a-768e-4b67-b7ce-cf7e2ced3b63",
   "metadata": {},
   "outputs": [],
   "source": [
    "import os\n",
    "# Set environment variables\n",
    "os.environ[\"CUDA_VISIBLE_DEVICES\"] = \"0\"\n",
    "os.environ[\"NCCL_IB_DISABLE\"] = \"1\"\n",
    "os.environ[\"NCCL_P2P_DISABLE\"] = \"1\""
   ]
  },
  {
   "cell_type": "code",
   "execution_count": 6,
   "id": "8c6e177a-8c7d-4b19-a857-992199056e56",
   "metadata": {},
   "outputs": [],
   "source": [
    "import torch\n",
    "from transformers import AutoModelForCausalLM, AutoTokenizer, BitsAndBytesConfig\n",
    "import bitsandbytes as bnb"
   ]
  },
  {
   "cell_type": "code",
   "execution_count": 7,
   "id": "84ee4d74-9f69-467d-88eb-d3bb3682ce37",
   "metadata": {},
   "outputs": [
    {
     "data": {
      "application/vnd.jupyter.widget-view+json": {
       "model_id": "ce8469b7cb584d319d021008376ab979",
       "version_major": 2,
       "version_minor": 0
      },
      "text/plain": [
       "Loading checkpoint shards:   0%|          | 0/3 [00:00<?, ?it/s]"
      ]
     },
     "metadata": {},
     "output_type": "display_data"
    }
   ],
   "source": [
    "# Set up the 4-bit quantization configuration\n",
    "quantization_config = BitsAndBytesConfig(load_in_4bit=True, bnb_4bit_quant_type=\"nf4\")\n",
    "#set group size\n",
    "group_size = 128\n",
    "\n",
    "#load tokenizer\n",
    "tokenizer = AutoTokenizer.from_pretrained(\"google/gemma-2-2b\", token=True)\n",
    "\n",
    "# Load the model with quantization configuration\n",
    "model_q = AutoModelForCausalLM.from_pretrained(\n",
    "    \"google/gemma-2-2b\", torch_dtype=torch.bfloat16, token=True,\n",
    "    quantization_config=quantization_config,\n",
    "    device_map=\"auto\"  # enables automatic device mapping\n",
    ")\n",
    "\n",
    "# Example of modifying model layers to include group size setting\n",
    "for module in model_q.modules():\n",
    "    if isinstance(module, bnb.nn.Linear4bit):\n",
    "        module.group_size = group_size"
   ]
  },
  {
   "cell_type": "code",
   "execution_count": 8,
   "id": "ce74629a-2230-4aab-a6d4-2a3238793cd2",
   "metadata": {},
   "outputs": [],
   "source": [
    "\n",
    "device = torch.device(\"cuda\" if torch.cuda.is_available() else \"cpu\")"
   ]
  },
  {
   "cell_type": "code",
   "execution_count": 9,
   "id": "cb6901be-6573-4aa8-b3f3-a4a2c9a36399",
   "metadata": {
    "scrolled": true
   },
   "outputs": [
    {
     "name": "stdout",
     "output_type": "stream",
     "text": [
      "Who are you?\n",
      "\n",
      "I am a 20 year old student at the University of California, Berkeley. I am currently studying Computer Science and Economics. I am also a member of the Berkeley College Republicans.\n",
      "\n",
      "What are your goals for the\n"
     ]
    }
   ],
   "source": [
    "# Test the model with a simple input\n",
    "def generate_text(prompt, max_length=50):\n",
    "    inputs = tokenizer(prompt, return_tensors=\"pt\").to(device)\n",
    "    outputs = model_q.generate(inputs.input_ids, max_length=max_length)\n",
    "    return tokenizer.decode(outputs[0], skip_special_tokens=True)\n",
    "\n",
    "# Example usage\n",
    "prompt = \"Who are you?\"\n",
    "generated_text = generate_text(prompt)\n",
    "print(generated_text)"
   ]
  },
  {
   "cell_type": "code",
   "execution_count": 10,
   "id": "036cf528-7479-42a2-8a59-4af15ddc0f66",
   "metadata": {
    "scrolled": true
   },
   "outputs": [
    {
     "data": {
      "text/plain": [
       "('gemma-2-2b-nf4/tokenizer_config.json',\n",
       " 'gemma-2-2b-nf4/special_tokens_map.json',\n",
       " 'gemma-2-2b-nf4/tokenizer.model',\n",
       " 'gemma-2-2b-nf4/added_tokens.json',\n",
       " 'gemma-2-2b-nf4/tokenizer.json')"
      ]
     },
     "execution_count": 10,
     "metadata": {},
     "output_type": "execute_result"
    }
   ],
   "source": [
    "# Save the quantized model\n",
    "model_q.save_pretrained(\"gemma-2-2b-nf4\")\n",
    "tokenizer.save_pretrained(\"gemma-2-2b-nf4\")"
   ]
  }
 ],
 "metadata": {
  "kernelspec": {
   "display_name": "Python 3 (ipykernel)",
   "language": "python",
   "name": "python3"
  },
  "language_info": {
   "codemirror_mode": {
    "name": "ipython",
    "version": 3
   },
   "file_extension": ".py",
   "mimetype": "text/x-python",
   "name": "python",
   "nbconvert_exporter": "python",
   "pygments_lexer": "ipython3",
   "version": "3.11.2"
  }
 },
 "nbformat": 4,
 "nbformat_minor": 5
}
