{
 "cells": [
  {
   "cell_type": "code",
   "execution_count": 1,
   "id": "c8addf7a-768e-4b67-b7ce-cf7e2ced3b63",
   "metadata": {},
   "outputs": [],
   "source": [
    "import os\n",
    "# Set environment variables\n",
    "os.environ[\"CUDA_VISIBLE_DEVICES\"] = \"0\"\n",
    "os.environ[\"NCCL_IB_DISABLE\"] = \"1\"\n",
    "os.environ[\"NCCL_P2P_DISABLE\"] = \"1\""
   ]
  },
  {
   "cell_type": "code",
   "execution_count": 2,
   "id": "8c6e177a-8c7d-4b19-a857-992199056e56",
   "metadata": {},
   "outputs": [],
   "source": [
    "import torch\n",
    "from transformers import AutoModelForCausalLM, AutoTokenizer, BitsAndBytesConfig\n",
    "import bitsandbytes as bnb\n",
    "from huggingface_hub import login\n",
    "from dotenv import load_dotenv"
   ]
  },
  {
   "cell_type": "code",
   "execution_count": 3,
   "id": "a84990a5-04ef-4c3e-9e34-5cae5a65c3a4",
   "metadata": {},
   "outputs": [
    {
     "name": "stdout",
     "output_type": "stream",
     "text": [
      "The token has not been saved to the git credentials helper. Pass `add_to_git_credential=True` in this function directly or `--add-to-git-credential` if using via `huggingface-cli` if you want to set the git credential as well.\n",
      "Token is valid (permission: write).\n",
      "Your token has been saved to /home/stoyang/.cache/huggingface/token\n",
      "Login successful\n"
     ]
    }
   ],
   "source": [
    "# Load the .env file\n",
    "load_dotenv()\n",
    "# Access the secret values\n",
    "token = os.getenv('HF_WRITE_TOKEN')\n",
    "login(token)"
   ]
  },
  {
   "cell_type": "code",
   "execution_count": 4,
   "id": "59ae4deb-4a6f-4613-bda0-ba4ec6f998ef",
   "metadata": {},
   "outputs": [
    {
     "data": {
      "application/vnd.jupyter.widget-view+json": {
       "model_id": "1bd59692cc0047e18ab56c116d957acb",
       "version_major": 2,
       "version_minor": 0
      },
      "text/plain": [
       "Loading checkpoint shards:   0%|          | 0/3 [00:00<?, ?it/s]"
      ]
     },
     "metadata": {},
     "output_type": "display_data"
    }
   ],
   "source": [
    "# Set up the 4-bit quantization configuration\n",
    "quantization_config = BitsAndBytesConfig(load_in_4bit=True)\n",
    "#set group size\n",
    "group_size = 128\n",
    "\n",
    "#load tokenizer\n",
    "tokenizer = AutoTokenizer.from_pretrained(\"google/gemma-2-2b\", token=True)\n",
    "\n",
    "# Load the model with quantization configuration\n",
    "model_q = AutoModelForCausalLM.from_pretrained(\n",
    "    \"google/gemma-2-2b\", torch_dtype=torch.bfloat16, token=True,\n",
    "    quantization_config=quantization_config,\n",
    "    device_map=\"auto\"  # enables automatic device mapping\n",
    ")\n",
    "\n",
    "# Example of modifying model layers to include group size setting\n",
    "for module in model_q.modules():\n",
    "    if isinstance(module, bnb.nn.Linear4bit):\n",
    "        module.group_size = group_size"
   ]
  },
  {
   "cell_type": "code",
   "execution_count": 4,
   "id": "ce74629a-2230-4aab-a6d4-2a3238793cd2",
   "metadata": {},
   "outputs": [],
   "source": [
    "\n",
    "device = torch.device(\"cuda\" if torch.cuda.is_available() else \"cpu\")"
   ]
  },
  {
   "cell_type": "code",
   "execution_count": 5,
   "id": "cb6901be-6573-4aa8-b3f3-a4a2c9a36399",
   "metadata": {
    "scrolled": true
   },
   "outputs": [
    {
     "name": "stdout",
     "output_type": "stream",
     "text": [
      "Who are you?\n",
      "\n",
      "I am a 20 year old student from the Netherlands. I am currently studying at the University of Amsterdam. I am a very open minded person and I am very interested in the world around me. I am very\n"
     ]
    }
   ],
   "source": [
    "# Test the model with a simple input\n",
    "def generate_text(prompt, max_length=50):\n",
    "    inputs = tokenizer(prompt, return_tensors=\"pt\").to(device)\n",
    "    outputs = model_q.generate(inputs.input_ids, max_length=max_length)\n",
    "    return tokenizer.decode(outputs[0], skip_special_tokens=True)\n",
    "\n",
    "# Example usage\n",
    "prompt = \"Who are you?\"\n",
    "generated_text = generate_text(prompt)\n",
    "print(generated_text)"
   ]
  },
  {
   "cell_type": "code",
   "execution_count": 6,
   "id": "036cf528-7479-42a2-8a59-4af15ddc0f66",
   "metadata": {
    "scrolled": true
   },
   "outputs": [
    {
     "data": {
      "text/plain": [
       "('gemma-2-2b-int4/tokenizer_config.json',\n",
       " 'gemma-2-2b-int4/special_tokens_map.json',\n",
       " 'gemma-2-2b-int4/tokenizer.model',\n",
       " 'gemma-2-2b-int4/added_tokens.json',\n",
       " 'gemma-2-2b-int4/tokenizer.json')"
      ]
     },
     "execution_count": 6,
     "metadata": {},
     "output_type": "execute_result"
    }
   ],
   "source": [
    "# Save the quantized model\n",
    "model_q.save_pretrained(\"gemma-2-2b-int4\")\n",
    "tokenizer.save_pretrained(\"gemma-2-2b-int4\")"
   ]
  },
  {
   "cell_type": "code",
   "execution_count": null,
   "id": "846318a7-3d7f-422f-bfb9-c0503c09fabf",
   "metadata": {},
   "outputs": [],
   "source": []
  }
 ],
 "metadata": {
  "kernelspec": {
   "display_name": "Python 3 (ipykernel)",
   "language": "python",
   "name": "python3"
  },
  "language_info": {
   "codemirror_mode": {
    "name": "ipython",
    "version": 3
   },
   "file_extension": ".py",
   "mimetype": "text/x-python",
   "name": "python",
   "nbconvert_exporter": "python",
   "pygments_lexer": "ipython3",
   "version": "3.11.2"
  }
 },
 "nbformat": 4,
 "nbformat_minor": 5
}
