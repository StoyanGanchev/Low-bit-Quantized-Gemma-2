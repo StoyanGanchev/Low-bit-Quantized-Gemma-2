{
 "cells": [
  {
   "cell_type": "code",
   "execution_count": 1,
   "id": "c8addf7a-768e-4b67-b7ce-cf7e2ced3b63",
   "metadata": {},
   "outputs": [],
   "source": [
    "import os\n",
    "# Set environment variables\n",
    "os.environ[\"CUDA_VISIBLE_DEVICES\"] = \"0\"\n",
    "os.environ[\"NCCL_IB_DISABLE\"] = \"1\"\n",
    "os.environ[\"NCCL_P2P_DISABLE\"] = \"1\""
   ]
  },
  {
   "cell_type": "code",
   "execution_count": 2,
   "id": "8c6e177a-8c7d-4b19-a857-992199056e56",
   "metadata": {},
   "outputs": [],
   "source": [
    "import torch\n",
    "from transformers import AutoModelForCausalLM, AutoTokenizer, BitsAndBytesConfig\n",
    "import bitsandbytes as bnb\n",
    "from bitsandbytes.nn import Linear8bitLt\n",
    "import torch.nn as nn"
   ]
  },
  {
   "cell_type": "code",
   "execution_count": 3,
   "id": "84ee4d74-9f69-467d-88eb-d3bb3682ce37",
   "metadata": {},
   "outputs": [],
   "source": [
    "# Load tokenizer\n",
    "tokenizer = AutoTokenizer.from_pretrained(\"google/gemma-2-9b\")"
   ]
  },
  {
   "cell_type": "code",
   "execution_count": 4,
   "id": "b3f22aef-16d2-4c60-845f-e0c639328342",
   "metadata": {},
   "outputs": [
    {
     "data": {
      "application/vnd.jupyter.widget-view+json": {
       "model_id": "b8d170db3def4ab8a9b1787445ca0ea9",
       "version_major": 2,
       "version_minor": 0
      },
      "text/plain": [
       "Loading checkpoint shards:   0%|          | 0/8 [00:00<?, ?it/s]"
      ]
     },
     "metadata": {},
     "output_type": "display_data"
    }
   ],
   "source": [
    "# Define the quantization configuration\n",
    "quantization_config = BitsAndBytesConfig(\n",
    "    load_in_8bit=True,  # Enable 8-bit quantization\n",
    "    llm_int8_threshold=6.0,  # Optional threshold for outlier detection\n",
    ")\n",
    "\n",
    "# Load the model with quantization configuration\n",
    "model = AutoModelForCausalLM.from_pretrained(\n",
    "    'google/gemma-2-9b',\n",
    "    torch_dtype=torch.bfloat16,\n",
    "    quantization_config=quantization_config,\n",
    "    device_map=\"auto\"  # Automatically map model to available devices (GPU/CPU)\n",
    ")"
   ]
  },
  {
   "cell_type": "code",
   "execution_count": 5,
   "id": "b81dee00-fb0b-47af-b954-a8504b519c04",
   "metadata": {},
   "outputs": [
    {
     "data": {
      "text/plain": [
       "('gemma-2-9b-int8/tokenizer_config.json',\n",
       " 'gemma-2-9b-int8/special_tokens_map.json',\n",
       " 'gemma-2-9b-int8/tokenizer.model',\n",
       " 'gemma-2-9b-int8/added_tokens.json',\n",
       " 'gemma-2-9b-int8/tokenizer.json')"
      ]
     },
     "execution_count": 5,
     "metadata": {},
     "output_type": "execute_result"
    }
   ],
   "source": [
    "# Save the quantized model\n",
    "model.save_pretrained('gemma-2-9b-int8')\n",
    "tokenizer.save_pretrained('gemma-2-9b-int8')"
   ]
  }
 ],
 "metadata": {
  "kernelspec": {
   "display_name": "Python 3 (ipykernel)",
   "language": "python",
   "name": "python3"
  },
  "language_info": {
   "codemirror_mode": {
    "name": "ipython",
    "version": 3
   },
   "file_extension": ".py",
   "mimetype": "text/x-python",
   "name": "python",
   "nbconvert_exporter": "python",
   "pygments_lexer": "ipython3",
   "version": "3.11.2"
  }
 },
 "nbformat": 4,
 "nbformat_minor": 5
}
